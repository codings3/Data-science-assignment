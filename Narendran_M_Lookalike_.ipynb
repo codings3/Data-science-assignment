{
  "nbformat": 4,
  "nbformat_minor": 0,
  "metadata": {
    "colab": {
      "private_outputs": true,
      "provenance": []
    },
    "kernelspec": {
      "name": "python3",
      "display_name": "Python 3"
    },
    "language_info": {
      "name": "python"
    }
  },
  "cells": [
    {
      "cell_type": "code",
      "execution_count": null,
      "metadata": {
        "id": "co-2UFDF0mU0"
      },
      "outputs": [],
      "source": [
        "import pandas as pd\n",
        "from sklearn.feature_extraction.text import TfidfVectorizer\n",
        "from sklearn.metrics.pairwise import cosine_similarity\n",
        "\n",
        "# Load the datasets\n",
        "customers = pd.read_csv('Customers.csv')\n",
        "products = pd.read_csv('/content/Products (1).csv')\n",
        "transactions = pd.read_csv('Transactions.csv')\n",
        "\n",
        "# Merge datasets\n",
        "merged_data = transactions.merge(customers, on='CustomerID').merge(products, on='ProductID')\n",
        "\n",
        "# Check and compute 'Price' if missing\n",
        "if 'Price' not in merged_data.columns:\n",
        "    merged_data['Price'] = merged_data['TotalValue'] / merged_data['Quantity']\n",
        "\n",
        "# Aggregate data to create customer profiles\n",
        "customer_profiles = merged_data.groupby('CustomerID').agg({\n",
        "    'Region': lambda x: ' '.join(x.unique()),\n",
        "    'Category': lambda x: ' '.join(x.unique()),\n",
        "    'Price': 'mean',\n",
        "    'Quantity': 'sum',\n",
        "    'TotalValue': 'sum'\n",
        "}).reset_index()\n",
        "\n",
        "\n",
        "# Combine text features for TF-IDF\n",
        "customer_profiles['CombinedFeatures'] = customer_profiles['Region'] + ' ' + customer_profiles['Category']\n",
        "\n",
        "# Apply TF-IDF to combined features\n",
        "tfidf = TfidfVectorizer()\n",
        "tfidf_matrix = tfidf.fit_transform(customer_profiles['CombinedFeatures'])\n",
        "\n",
        "# Compute similarity matrix\n",
        "similarity_matrix = cosine_similarity(tfidf_matrix)\n",
        "\n",
        "# Generate lookalike recommendations\n",
        "lookalike_results = {}\n",
        "customer_ids = customer_profiles['CustomerID']\n",
        "\n",
        "for idx, customer_id in enumerate(customer_ids):\n",
        "    # Get similarity scores for the customer\n",
        "    similarity_scores = list(enumerate(similarity_matrix[idx]))\n",
        "\n",
        "    # Sort by similarity score in descending order\n",
        "    sorted_scores = sorted(similarity_scores, key=lambda x: x[1], reverse=True)\n",
        "\n",
        "    # Exclude self and get top 3 similar customers\n",
        "    top_3 = [(customer_ids[i], score) for i, score in sorted_scores if i != idx][:3]\n",
        "\n",
        "    # Save results\n",
        "    lookalike_results[customer_id] = top_3\n",
        "\n",
        "# Filter results for the first 20 customers\n",
        "lookalike_filtered = {cid: lookalike_results[cid] for cid in customer_ids[:20]}\n",
        "\n",
        "# Save results to CSV\n",
        "lookalike_df = pd.DataFrame([\n",
        "    {\n",
        "        'CustomerID': cid,\n",
        "        'Lookalikes': str([(lc[0], round(lc[1], 4)) for lc in lookalikes])\n",
        "    }\n",
        "    for cid, lookalikes in lookalike_filtered.items()\n",
        "])\n",
        "lookalike_df.to_csv('Lookalike.csv', index=False)\n",
        "\n",
        "print(\"Lookalike model completed. Recommendations saved to Lookalike.csv.\")\n"
      ]
    }
  ]
}